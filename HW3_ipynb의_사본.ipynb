{
  "nbformat": 4,
  "nbformat_minor": 0,
  "metadata": {
    "colab": {
      "name": "HW3.ipynb의 사본",
      "provenance": [],
      "collapsed_sections": [],
      "include_colab_link": true
    },
    "kernelspec": {
      "name": "python3",
      "display_name": "Python 3"
    },
    "language_info": {
      "name": "python"
    }
  },
  "cells": [
    {
      "cell_type": "markdown",
      "metadata": {
        "id": "view-in-github",
        "colab_type": "text"
      },
      "source": [
        "<a href=\"https://colab.research.google.com/github/skck0226/2022S-ML/blob/main/HW3_ipynb%EC%9D%98_%EC%82%AC%EB%B3%B8.ipynb\" target=\"_parent\"><img src=\"https://colab.research.google.com/assets/colab-badge.svg\" alt=\"Open In Colab\"/></a>"
      ]
    },
    {
      "cell_type": "markdown",
      "source": [
        "# **HW3 :: Parameter Tuning and Classifcation**"
      ],
      "metadata": {
        "id": "m1rbIpJvJD_m"
      }
    },
    {
      "cell_type": "markdown",
      "source": [
        "## 코랩과 구글 드라이브 연동 OR 로컬에서 파일 업로드\n",
        "- 해당 섹션 코드 수정 가능"
      ],
      "metadata": {
        "id": "6c34x6aJI_kE"
      }
    },
    {
      "cell_type": "code",
      "source": [
        "# 연동 OR 파일 업로드\n",
        "# 연동 시 path 설정 주의"
      ],
      "metadata": {
        "id": "PLXjmIbsJMlk"
      },
      "execution_count": null,
      "outputs": []
    },
    {
      "cell_type": "code",
      "source": [
        "cd /content/"
      ],
      "metadata": {
        "id": "PgqVEy0zPlg_",
        "colab": {
          "base_uri": "https://localhost:8080/"
        },
        "outputId": "db95d081-d9f5-451d-b03b-2a68578e05a2"
      },
      "execution_count": null,
      "outputs": [
        {
          "output_type": "stream",
          "name": "stdout",
          "text": [
            "/content\n"
          ]
        }
      ]
    },
    {
      "cell_type": "markdown",
      "source": [
        "## 데이터 불러오기"
      ],
      "metadata": {
        "id": "HR6Kw9YhJV8A"
      }
    },
    {
      "cell_type": "code",
      "execution_count": null,
      "metadata": {
        "id": "29BsCuUtKjKA"
      },
      "outputs": [],
      "source": [
        "import numpy as np\n",
        "import pandas as pd"
      ]
    },
    {
      "cell_type": "code",
      "source": [
        "path = 'heart_clean.csv' # 제공된 csv 파일 사용\n",
        "df = pd.read_csv(path)"
      ],
      "metadata": {
        "id": "KCR3D9shItY9"
      },
      "execution_count": null,
      "outputs": []
    },
    {
      "cell_type": "code",
      "source": [
        "df.head()"
      ],
      "metadata": {
        "colab": {
          "base_uri": "https://localhost:8080/",
          "height": 206
        },
        "id": "S9v7sEpoL0jf",
        "outputId": "4551fb8b-cb33-44f0-dfc3-872c0a121e86"
      },
      "execution_count": null,
      "outputs": [
        {
          "output_type": "execute_result",
          "data": {
            "text/plain": [
              "   Age  RestingBP  FastingBS  ExerciseAngina  Oldpeak  HeartDisease\n",
              "0   53        120          0               0      0.0             0\n",
              "1   65        134          0               1      1.1             1\n",
              "2   60        160          0               1      0.5             1\n",
              "3   57        150          1               0      0.2             0\n",
              "4   57        150          0               1      0.6             1"
            ],
            "text/html": [
              "\n",
              "  <div id=\"df-c03930a8-dd92-461c-9790-4acfff7c2b6f\">\n",
              "    <div class=\"colab-df-container\">\n",
              "      <div>\n",
              "<style scoped>\n",
              "    .dataframe tbody tr th:only-of-type {\n",
              "        vertical-align: middle;\n",
              "    }\n",
              "\n",
              "    .dataframe tbody tr th {\n",
              "        vertical-align: top;\n",
              "    }\n",
              "\n",
              "    .dataframe thead th {\n",
              "        text-align: right;\n",
              "    }\n",
              "</style>\n",
              "<table border=\"1\" class=\"dataframe\">\n",
              "  <thead>\n",
              "    <tr style=\"text-align: right;\">\n",
              "      <th></th>\n",
              "      <th>Age</th>\n",
              "      <th>RestingBP</th>\n",
              "      <th>FastingBS</th>\n",
              "      <th>ExerciseAngina</th>\n",
              "      <th>Oldpeak</th>\n",
              "      <th>HeartDisease</th>\n",
              "    </tr>\n",
              "  </thead>\n",
              "  <tbody>\n",
              "    <tr>\n",
              "      <th>0</th>\n",
              "      <td>53</td>\n",
              "      <td>120</td>\n",
              "      <td>0</td>\n",
              "      <td>0</td>\n",
              "      <td>0.0</td>\n",
              "      <td>0</td>\n",
              "    </tr>\n",
              "    <tr>\n",
              "      <th>1</th>\n",
              "      <td>65</td>\n",
              "      <td>134</td>\n",
              "      <td>0</td>\n",
              "      <td>1</td>\n",
              "      <td>1.1</td>\n",
              "      <td>1</td>\n",
              "    </tr>\n",
              "    <tr>\n",
              "      <th>2</th>\n",
              "      <td>60</td>\n",
              "      <td>160</td>\n",
              "      <td>0</td>\n",
              "      <td>1</td>\n",
              "      <td>0.5</td>\n",
              "      <td>1</td>\n",
              "    </tr>\n",
              "    <tr>\n",
              "      <th>3</th>\n",
              "      <td>57</td>\n",
              "      <td>150</td>\n",
              "      <td>1</td>\n",
              "      <td>0</td>\n",
              "      <td>0.2</td>\n",
              "      <td>0</td>\n",
              "    </tr>\n",
              "    <tr>\n",
              "      <th>4</th>\n",
              "      <td>57</td>\n",
              "      <td>150</td>\n",
              "      <td>0</td>\n",
              "      <td>1</td>\n",
              "      <td>0.6</td>\n",
              "      <td>1</td>\n",
              "    </tr>\n",
              "  </tbody>\n",
              "</table>\n",
              "</div>\n",
              "      <button class=\"colab-df-convert\" onclick=\"convertToInteractive('df-c03930a8-dd92-461c-9790-4acfff7c2b6f')\"\n",
              "              title=\"Convert this dataframe to an interactive table.\"\n",
              "              style=\"display:none;\">\n",
              "        \n",
              "  <svg xmlns=\"http://www.w3.org/2000/svg\" height=\"24px\"viewBox=\"0 0 24 24\"\n",
              "       width=\"24px\">\n",
              "    <path d=\"M0 0h24v24H0V0z\" fill=\"none\"/>\n",
              "    <path d=\"M18.56 5.44l.94 2.06.94-2.06 2.06-.94-2.06-.94-.94-2.06-.94 2.06-2.06.94zm-11 1L8.5 8.5l.94-2.06 2.06-.94-2.06-.94L8.5 2.5l-.94 2.06-2.06.94zm10 10l.94 2.06.94-2.06 2.06-.94-2.06-.94-.94-2.06-.94 2.06-2.06.94z\"/><path d=\"M17.41 7.96l-1.37-1.37c-.4-.4-.92-.59-1.43-.59-.52 0-1.04.2-1.43.59L10.3 9.45l-7.72 7.72c-.78.78-.78 2.05 0 2.83L4 21.41c.39.39.9.59 1.41.59.51 0 1.02-.2 1.41-.59l7.78-7.78 2.81-2.81c.8-.78.8-2.07 0-2.86zM5.41 20L4 18.59l7.72-7.72 1.47 1.35L5.41 20z\"/>\n",
              "  </svg>\n",
              "      </button>\n",
              "      \n",
              "  <style>\n",
              "    .colab-df-container {\n",
              "      display:flex;\n",
              "      flex-wrap:wrap;\n",
              "      gap: 12px;\n",
              "    }\n",
              "\n",
              "    .colab-df-convert {\n",
              "      background-color: #E8F0FE;\n",
              "      border: none;\n",
              "      border-radius: 50%;\n",
              "      cursor: pointer;\n",
              "      display: none;\n",
              "      fill: #1967D2;\n",
              "      height: 32px;\n",
              "      padding: 0 0 0 0;\n",
              "      width: 32px;\n",
              "    }\n",
              "\n",
              "    .colab-df-convert:hover {\n",
              "      background-color: #E2EBFA;\n",
              "      box-shadow: 0px 1px 2px rgba(60, 64, 67, 0.3), 0px 1px 3px 1px rgba(60, 64, 67, 0.15);\n",
              "      fill: #174EA6;\n",
              "    }\n",
              "\n",
              "    [theme=dark] .colab-df-convert {\n",
              "      background-color: #3B4455;\n",
              "      fill: #D2E3FC;\n",
              "    }\n",
              "\n",
              "    [theme=dark] .colab-df-convert:hover {\n",
              "      background-color: #434B5C;\n",
              "      box-shadow: 0px 1px 3px 1px rgba(0, 0, 0, 0.15);\n",
              "      filter: drop-shadow(0px 1px 2px rgba(0, 0, 0, 0.3));\n",
              "      fill: #FFFFFF;\n",
              "    }\n",
              "  </style>\n",
              "\n",
              "      <script>\n",
              "        const buttonEl =\n",
              "          document.querySelector('#df-c03930a8-dd92-461c-9790-4acfff7c2b6f button.colab-df-convert');\n",
              "        buttonEl.style.display =\n",
              "          google.colab.kernel.accessAllowed ? 'block' : 'none';\n",
              "\n",
              "        async function convertToInteractive(key) {\n",
              "          const element = document.querySelector('#df-c03930a8-dd92-461c-9790-4acfff7c2b6f');\n",
              "          const dataTable =\n",
              "            await google.colab.kernel.invokeFunction('convertToInteractive',\n",
              "                                                     [key], {});\n",
              "          if (!dataTable) return;\n",
              "\n",
              "          const docLinkHtml = 'Like what you see? Visit the ' +\n",
              "            '<a target=\"_blank\" href=https://colab.research.google.com/notebooks/data_table.ipynb>data table notebook</a>'\n",
              "            + ' to learn more about interactive tables.';\n",
              "          element.innerHTML = '';\n",
              "          dataTable['output_type'] = 'display_data';\n",
              "          await google.colab.output.renderOutput(dataTable, element);\n",
              "          const docLink = document.createElement('div');\n",
              "          docLink.innerHTML = docLinkHtml;\n",
              "          element.appendChild(docLink);\n",
              "        }\n",
              "      </script>\n",
              "    </div>\n",
              "  </div>\n",
              "  "
            ]
          },
          "metadata": {},
          "execution_count": 93
        }
      ]
    },
    {
      "cell_type": "markdown",
      "source": [
        "## 데이터 나누기"
      ],
      "metadata": {
        "id": "fZDTxR6wKuPO"
      }
    },
    {
      "cell_type": "markdown",
      "source": [
        "### **주의 사항**\n",
        "train_test_split에 random seed를 사용하여 split set을 고정한다.\n",
        "- 모든 문제에 같은 random seed를 부여할 필요는 없다.\n"
      ],
      "metadata": {
        "id": "h5enxbYKbAhW"
      }
    },
    {
      "cell_type": "code",
      "source": [
        "from sklearn.model_selection import train_test_split\n",
        "\n",
        "X = df.drop('HeartDisease', axis=1)\n",
        "y = df['HeartDisease']\n",
        "  \n",
        "X_train, X_test, y_train, y_test = train_test_split(X, y, test_size=0.1, random_state=77)\n",
        "X_train, X_val, y_train, y_val = train_test_split(X_train, y_train, test_size=1/9, random_state=77)\n",
        "\n",
        "print(\"X_train's shape : \", X_train.shape)\n",
        "print(\"y_train's shape : \", y_train.shape)\n",
        "print(\"\\nX_val's shape : \", X_val.shape)\n",
        "print(\"y_val's shape : \", y_val.shape)\n",
        "print(\"\\nX_test's shape : \", X_test.shape)\n",
        "print(\"y_test's shape : \", y_test.shape)"
      ],
      "metadata": {
        "colab": {
          "base_uri": "https://localhost:8080/"
        },
        "id": "V1zQHUKdKWFz",
        "outputId": "e487791a-87e7-4fe4-dc86-7348d844c5b1"
      },
      "execution_count": null,
      "outputs": [
        {
          "output_type": "stream",
          "name": "stdout",
          "text": [
            "X_train's shape :  (568, 5)\n",
            "y_train's shape :  (568,)\n",
            "\n",
            "X_val's shape :  (71, 5)\n",
            "y_val's shape :  (71,)\n",
            "\n",
            "X_test's shape :  (71, 5)\n",
            "y_test's shape :  (71,)\n"
          ]
        }
      ]
    },
    {
      "cell_type": "markdown",
      "source": [
        "## 문제1 KNN\n",
        "\n",
        "\n",
        "\n",
        "- Scikit-learn 라이브러리를 이용하여 KNN의 최적의 파라미터를 찾는다.\n",
        "    - 최근접 이웃을 찾기 위한 거리의 종류로 최소한 두 가지 이상의 거리 척도를 사용한다.\n",
        "    - K값을 최소 3개 이상 비교한다.\n",
        "    - 거리 척도, k값에 따라 train, validation 정확도를 한 그래프로 그린다.(x축 k값, y축 정확도)\n",
        "    - 찾은 최적의 파라미터와 test set 이용하여 test_accuracy 계산하고 기입한다.\n",
        "    - 최적의 파라미터를 찾은 것에 대한 설명을 '텍스트 셀'에 작성한다.\n",
        "\n"
      ],
      "metadata": {
        "id": "P5Gr-LZOLCSP"
      }
    },
    {
      "cell_type": "code",
      "source": [
        "### 문제 1 ###\n",
        "## 코드 작성 ##\n",
        "\n",
        "from sklearn.neighbors import KNeighborsClassifier\n",
        "from sklearn.model_selection import cross_val_score\n",
        "import matplotlib.pyplot as plt\n",
        "\n",
        "neighbor = [1,3,6,9,11,20]\n",
        "euclidean_train = []\n",
        "euclidean_validation = []\n",
        "manhattan_train = []\n",
        "manhattan_validation = []\n",
        "# knn 알고리즘 거리척도 euclidean k값 neighbor list에서 반복 추출, 모델 학습 후 정확도 계산\n",
        "for i in neighbor:\n",
        "    knn = KNeighborsClassifier(n_neighbors = i, metric=\"euclidean\")\n",
        "    knn.fit(X_train,y_train)\n",
        "    euclidean_train.append(knn.score(X_train, y_train))\n",
        "    knn.fit(X_train, y_train)\n",
        "    euclidean_validation.append(knn.score(X_val, y_val))\n",
        "\n",
        "# knn 알고리즘 거리척도 manhattan k값 neighbor list에서 반복 추출, 모델 학습 후 정확도 계산\n",
        "for i in neighbor:\n",
        "    knn = KNeighborsClassifier(n_neighbors = i, metric = \"manhattan\")\n",
        "    knn.fit(X_train,y_train)\n",
        "    manhattan_train.append(knn.score(X_train, y_train))\n",
        "    knn.fit(X_train, y_train)\n",
        "    manhattan_validation.append(knn.score(X_val, y_val))\n",
        "\n",
        "# plt 그래프\n",
        "plt.xlabel('k')\n",
        "plt.ylabel('acc')\n",
        "plt.xticks(neighbor)\n",
        "plt.plot(neighbor,euclidean_train,label='euclidean_train')\n",
        "plt.plot(neighbor,euclidean_validation,label='euclidean_val')\n",
        "plt.plot(neighbor,manhattan_train,label='manhattan_train')\n",
        "plt.plot(neighbor,manhattan_validation,label='manhattan_val')\n",
        "plt.legend()\n",
        "plt.show() \n",
        "\n",
        "# 최적의 하이퍼파라미터, k=6 , 거리척도 manhattan으로 학습 후 test set에 대한 정확도 계산\n",
        "knn = KNeighborsClassifier(n_neighbors = 6, metric = \"manhattan\")\n",
        "knn.fit(X_train,y_train)\n",
        "knn.score(X_test,y_test)    "
      ],
      "metadata": {
        "id": "ME76ne9cdSMa",
        "colab": {
          "base_uri": "https://localhost:8080/",
          "height": 298
        },
        "outputId": "d7289cf9-2702-483b-ec45-2bfd9211efdf"
      },
      "execution_count": null,
      "outputs": [
        {
          "output_type": "display_data",
          "data": {
            "text/plain": [
              "<Figure size 432x288 with 1 Axes>"
            ],
            "image/png": "[encoded data removed]"
          },
          "metadata": {
            "needs_background": "light"
          }
        },
        {
          "output_type": "execute_result",
          "data": {
            "text/plain": [
              "0.6901408450704225"
            ]
          },
          "metadata": {},
          "execution_count": 95
        }
      ]
    },
    {
      "cell_type": "markdown",
      "source": [
        "**설명 작성**  \n",
        "- 최적의 파라미터: k값 6, 거리 척도 manhattan\n",
        "- 설명: 거리척도로 euclidean과 manhattan을, k값으로 [1,3,6,9,11,20]을 적용하여 knn모델을 훈련시켜 모든 조합에 대해 train,validation acuuracy를 비교하였다. euclidean 과 manhattan 과의 비교에서 manhattan이 train,과 validation accuracy 모두 앞섰다.\n",
        "k값은 validation accuracy값이 가장 크고 train과 validation 그래프가 가장 가까운 지점인 k=6을 선택했다."
      ],
      "metadata": {
        "id": "8-BMEqCFdfsR"
      }
    },
    {
      "cell_type": "markdown",
      "source": [
        "\n",
        "\n",
        "---\n",
        "\n"
      ],
      "metadata": {
        "id": "kHaSKoowjPp7"
      }
    },
    {
      "cell_type": "markdown",
      "source": [
        "## 문제2 SVM\n",
        "\n",
        "\n",
        "- Scikit-learn 라이브러리를 이용하여 SVM의 최적의 파라미터를 찾는다.\n",
        "    - Kernel trick 중 최소 두개를 비교한다.\n",
        "    - 최적의 파라미터 C값을 찾는다.\n",
        "    - 파라미터에 따라 train, validation 정확도를 한 그래프로 그린다.(x축 C값, y축 정확도)\n",
        "    - 찾은 최적의 파라미터와 test set을 이용하여 test accuracy를 계산하고 기입한다.\n",
        "    - 최적의 파라미터를 찾은 것에 대한 설명을 '텍스트 셀'에 작성한다.\n"
      ],
      "metadata": {
        "id": "VA0mzbsiaOoH"
      }
    },
    {
      "cell_type": "code",
      "source": [
        "### 문제 2 ###\n",
        "## 코드 작성 ##\n",
        "from sklearn import svm\n",
        "poly_train = []\n",
        "poly_val = []\n",
        "rbf_train = []\n",
        "rbf_val = []\n",
        "# C = [1,2,4,10]\n",
        "C = [0.001, 0.01, 1, 4,10]\n",
        "\n",
        "# polynomial kernel trick 케이스, C값 c list에서 하나씩 추출, 각 kernel과 c값으로 학습 후 정확도 계산\n",
        "for c in C:\n",
        "  _svm = svm.SVC(C=c, kernel=\"poly\")\n",
        "  _svm.fit(X_train, y_train)\n",
        "  poly_train.append(_svm.score(X_train, y_train))\n",
        "  poly_val.append(_svm.score(X_val,y_val))\n",
        "\n",
        "# rbf kernel trick 케이스, C값 c list에서 하나씩 추출, 각 kernel과 c값으로 학습 후 정확도 계산\n",
        "for c in C:\n",
        "  _svm = svm.SVC(C=c, kernel=\"rbf\")\n",
        "  _svm.fit(X_train, y_train)\n",
        "  rbf_train.append(_svm.score(X_train, y_train))\n",
        "  rbf_val.append(_svm.score(X_val, y_val))\n",
        "\n",
        "# plt 그래프 그리기\n",
        "plt.xlabel('C')\n",
        "plt.ylabel('acc')\n",
        "plt.xticks(C)\n",
        "plt.plot(C,poly_train,label='poly_train')\n",
        "plt.plot(C,poly_val,label='poly_val')\n",
        "plt.plot(C,rbf_train,label='rbf_train')\n",
        "plt.plot(C,rbf_val,label='rbf_val')\n",
        "plt.legend()\n",
        "plt.show() \n",
        "\n",
        "# 가장 최적의 하이퍼파라미터로 추정되는 c=4, polynomial 커널을 이용하여 학습 후 test set에 대한 정확도 계산\n",
        "_svm = svm.SVC(C=4, kernel=\"poly\")\n",
        "_svm.fit(X_train, y_train)\n",
        "_svm.score(X_test, y_test)"
      ],
      "metadata": {
        "id": "zZdkdlyMeH_Y",
        "colab": {
          "base_uri": "https://localhost:8080/",
          "height": 297
        },
        "outputId": "c934636c-a9a3-48f8-b3bf-7f48a38a0154"
      },
      "execution_count": null,
      "outputs": [
        {
          "output_type": "display_data",
          "data": {
            "text/plain": [
              "<Figure size 432x288 with 1 Axes>"
            ],
            "image/png": "[encoded data removed]"
          },
          "metadata": {
            "needs_background": "light"
          }
        },
        {
          "output_type": "execute_result",
          "data": {
            "text/plain": [
              "0.7323943661971831"
            ]
          },
          "metadata": {},
          "execution_count": 96
        }
      ]
    },
    {
      "cell_type": "markdown",
      "source": [
        "**설명 작성**  \n",
        "- 최적의 파라미터: C가 4, kernel 트릭 polynomial\n",
        "- 설명: kernel trick으로 polynomial과 rbf를, C값으로 [0.001,0.1,1,4,10]을 적용하여 svm모델을 훈련시켜 모든 조합에 대해 train,validation acuuracy를 비교하였다.  polynomial이 train, validation 모두에서 accuracy가 높게 나타났고, validation accuracy가 C가 4일 때 polynomial, rbf 에서 최적으로 높다."
      ],
      "metadata": {
        "id": "y47YT_IleHKq"
      }
    },
    {
      "cell_type": "markdown",
      "source": [
        "\n",
        "\n",
        "---\n",
        "\n"
      ],
      "metadata": {
        "id": "jFA8FPDKkjHC"
      }
    },
    {
      "cell_type": "markdown",
      "source": [
        "## 문제3 Cross validation with Random Forest\n",
        "\n",
        "1.   항목 추가\n",
        "2.   항목 추가\n",
        "\n",
        "\n",
        "### 3-1: k-fold\n",
        "- 수업시간에 배운 **5-fold** 를 이용하여 최적의 파라미터를 찾는다. (데이터는 동일)\n",
        "- 수업시간에 배운 random forest 모델의 파라미터를 cross-validation을 바탕으로 최적화한다.\n",
        "    - **5-fold CV를 할 때, test data를 제외한 90%의 데이터를 사용해야한다.**\n",
        "    - 파라미터에 따라 K-fold CV를 통해 나온 평균 정확도와 각 fold의 정확도들을 한 그래프로 그린다.(x축 선택한 파라미터, y축 정확도)\n",
        "    - 찾은 최적의 파라미터와 test set을 이용하여 test accuracy를 계산하고 기입한다.\n",
        "    - 최적의 파라미터를 찾은 것에 대한 설명을 '텍스트 셀'에 작성한다.\n",
        "\n",
        "### 3-2: Leave One Out\n",
        "- 수업시간에 배운 Leave-One-Out 를 이용하여 최적의 파라미터를 찾는다. (데이터는 동일)\n",
        "- 수업시간에 배운 random forest 모델의 파라미터를 cross-validation을 바탕으로 최적화한다.\n",
        "  - **Leave-One-Out CV를 할 때, test data를 제외한 90%의 데이터를 사용해야한다.**\n",
        "  - 파라미터에 따라 Leave-One-Out CV를 통해 나온 평균 정확도를 그래프로 그린다.(x축 선택한 파라미터, y축 정확도)\n",
        "  - 찾은 최적의 파라미터와 test set을 이용하여 test accuracy를 계산하고 기입한다.\n",
        "  - 최적의 파라미터를 찾은 것에 대한 설명을 '텍스트 셀'에 작성한다."
      ],
      "metadata": {
        "id": "cl1b3f3AaZUw"
      }
    },
    {
      "cell_type": "code",
      "source": [
        "### 문제 3-1 ###\n",
        "## 코드 작성 ##\n",
        "\n",
        "from sklearn.ensemble import RandomForestClassifier\n",
        "from sklearn.model_selection import cross_val_score\n",
        "\n",
        "# from sklearn.model_selection import GridSearchCV\n",
        "# param_grid = {\n",
        "#                  'n_estimators': [5, 10, 15, 20]\n",
        "#                 #  'max_depth': [2, 5, 7, 9]\n",
        "#              }\n",
        "\n",
        "# grid_clf = GridSearchCV(clf, param_grid, cv=5)\n",
        "# grid_clf.fit(X_train, y_train)\n",
        "# grid_clf.scorer_ \n",
        "# 그리드 서치\n",
        "first = []\n",
        "second = []\n",
        "third = []\n",
        "fourth = []\n",
        "fifth = []\n",
        "mean = []\n",
        "n_estimators = [10,50,100,150,200]\n",
        "# random forest 파라미터인 트리의 갯수 배열에 대해 5fold cv를 실행하여 validation들의 평균이 가장 높은 트리 갯수를 구한다. 하이퍼 파라미터 결정 \n",
        "for i in n_estimators:\n",
        "  clf = RandomForestClassifier(n_estimators=i, random_state=77) \n",
        "  cv = cross_val_score(clf, X_train, y_train, cv=5)\n",
        "  first.append(cv[0])\n",
        "  second.append(cv[1])\n",
        "  third.append(cv[2])\n",
        "  fourth.append(cv[3])\n",
        "  fifth.append(cv[4])\n",
        "  mean.append(np.mean(cv))\n",
        "  \n",
        "# k fold cv 에서 x축 트리의 갯수(파라미터) y축 정확도로 하여 각 fold들의 정확도를 그래프로 그림\n",
        "plt.xlabel('n_estimators')\n",
        "plt.ylabel('acc')\n",
        "plt.xticks(n_estimators)\n",
        "plt.plot(n_estimators, first, label = \"1 fold\")\n",
        "plt.plot(n_estimators, second, label = \"2 fold\")\n",
        "plt.plot(n_estimators, third, label = \"3 fold\")\n",
        "plt.plot(n_estimators, fourth, label = \"4 fold\")\n",
        "plt.plot(n_estimators, fifth, label = \"5 fold\")\n",
        "plt.legend()\n",
        "plt.show() \n",
        "\n",
        "# 각 fold cv의 validation들의 평균을 트리의 갯수별로 나타냄\n",
        "plt.xlabel('n_estimators')\n",
        "plt.ylabel('acc')\n",
        "plt.xticks(n_estimators)\n",
        "plt.plot(n_estimators, mean, label = \"mean\")\n",
        "plt.legend()\n",
        "plt.show() \n",
        "\n",
        "# 최적의 트리의 갯수를 찾아서 모델 학습 후 테스트 셋에 대한 정확도 계산\n",
        "clf = RandomForestClassifier(n_estimators= 150, random_state=77) \n",
        "clf.fit(X_train, y_train)\n",
        "clf.score(X_test, y_test)"
      ],
      "metadata": {
        "id": "fYNny36efEF3",
        "colab": {
          "base_uri": "https://localhost:8080/",
          "height": 564
        },
        "outputId": "4fa9bc69-d411-4b60-8624-3fbbd66a529d"
      },
      "execution_count": null,
      "outputs": [
        {
          "output_type": "display_data",
          "data": {
            "text/plain": [
              "<Figure size 432x288 with 1 Axes>"
            ],
            "image/png": "[encoded data removed]"
          },
          "metadata": {
            "needs_background": "light"
          }
        },
        {
          "output_type": "display_data",
          "data": {
            "text/plain": [
              "<Figure size 432x288 with 1 Axes>"
            ],
            "image/png": "[encoded data removed]"
          },
          "metadata": {
            "needs_background": "light"
          }
        },
        {
          "output_type": "execute_result",
          "data": {
            "text/plain": [
              "0.7605633802816901"
            ]
          },
          "metadata": {},
          "execution_count": 97
        }
      ]
    },
    {
      "cell_type": "markdown",
      "source": [
        "**설명 작성**  \n",
        "- test accuracy: 0.7605\n",
        "- 최적의 파라미터: n_estimators = 150\n",
        "- 설명: n_estimators는 random forest를 구성하는 결정트리의 갯수이다 많을수록 좋은 경향이 있다. 다만 연산이 많아짐. loocv 언제끝나지..\n",
        "random forest의 Idea는 각각의 tree는 비교적 예측을 잘 할 수 있지만 데이터의 일부에 overfitting하는 경향을 가진다는 데 기초합니다.\n",
        "잘 작동하되 서로 다른 방향으로 overfitting된 tree를 많이 만들면 그 결과를 평균냄으로써 overfitting된 양을 줄일 수 있습니다.\n",
        "이렇게 하면 tree model의 예측 성능이 유지되면서 overfitting이 줄어드는 것이 수학적으로 증명되었습니다.(참조 https://woolulu.tistory.com/28)\n",
        "다른 hyper parameter로는 트리의 깊이, 참조할 feature의 갯수가 있다.\n",
        "\n"
      ],
      "metadata": {
        "id": "2xvEdCHAfH0g"
      }
    },
    {
      "cell_type": "code",
      "source": [
        "### 문제 3-2 ###\n",
        "## 코드 작성 ##\n",
        "from sklearn.ensemble import RandomForestClassifier\n",
        "from sklearn.model_selection import LeaveOneOut\n",
        "n_estimators = [10, 50, 100, 150]\n",
        "\n",
        "mean = []\n",
        "\n",
        "# cv 중 least one out 기법을 적용하여 cv 수행 후 각 파라미터 별 평균 validation 구함\n",
        "for i in n_estimators:\n",
        "  clf = RandomForestClassifier(i)\n",
        "  cv = cross_val_score(clf, X_train, y_train, cv=LeaveOneOut())\n",
        "  mean.append(np.mean(cv))\n",
        "\n",
        "# 파라미터 별 평균 validatoin 그래프로 나타냄 최적의 파라미터 결정\n",
        "plt.xlabel('n_estimators')\n",
        "plt.ylabel('acc')\n",
        "plt.xticks(n_estimators)\n",
        "plt.plot(n_estimators, mean, label = \"mean\")\n",
        "plt.legend()\n",
        "plt.show() \n",
        "\n"
      ],
      "metadata": {
        "id": "80a5iRmvfG6H",
        "colab": {
          "base_uri": "https://localhost:8080/",
          "height": 280
        },
        "outputId": "0802bdb2-d755-4295-edcf-456300e4370f"
      },
      "execution_count": null,
      "outputs": [
        {
          "output_type": "display_data",
          "data": {
            "text/plain": [
              "<Figure size 432x288 with 1 Axes>"
            ],
            "image/png": "[encoded data removed]"
          },
          "metadata": {
            "needs_background": "light"
          }
        }
      ]
    },
    {
      "cell_type": "code",
      "source": [
        "clf = RandomForestClassifier(50)\n",
        "clf.fit(X_train, y_train)\n",
        "clf.score(X_test, y_test)"
      ],
      "metadata": {
        "colab": {
          "base_uri": "https://localhost:8080/"
        },
        "id": "QMB3sWwvUIxP",
        "outputId": "3ca071d1-e613-460a-efe9-a967022321ed"
      },
      "execution_count": null,
      "outputs": [
        {
          "output_type": "execute_result",
          "data": {
            "text/plain": [
              "0.7887323943661971"
            ]
          },
          "metadata": {},
          "execution_count": 99
        }
      ]
    },
    {
      "cell_type": "markdown",
      "source": [
        "**설명 작성**  \n",
        "- test accuracy: 0.8028\n",
        "- 최적의 파라미터: n_estimators = 50\n",
        "- 설명: loocv 를 통해 validation set을 n개만큼 생성하여 모든 accuracy를 평균낸 validation accuracy 값이 n_estimators가 50일 때 가장 높다. 모든 set들을 한번 씩 다 validation하기에 train set과 validation set을 나눌 필요가 없다. cross validation을 통해 hyper_parameter를 결정할 수 있었다."
      ],
      "metadata": {
        "id": "m9BqByTFfLIG"
      }
    },
    {
      "cell_type": "markdown",
      "source": [
        "\n",
        "\n",
        "---\n",
        "\n"
      ],
      "metadata": {
        "id": "BlvQjbXJkllk"
      }
    },
    {
      "cell_type": "markdown",
      "source": [
        "## 문제4 Regression\n",
        "문제 4 에서는 캘리포니아 주택 가격 데이터셋을 사용합니다.   \n",
        "학습을 통해 주택 가격을 예측하는 문제입니다.  \n",
        "데이터에 대한 자세한 설명은 아래 코드의 description을 참고해주세요."
      ],
      "metadata": {
        "id": "szX5GgcXfnM1"
      }
    },
    {
      "cell_type": "code",
      "source": [
        "from sklearn.datasets import fetch_california_housing\n",
        "housing = fetch_california_housing()\n",
        "print(housing.DESCR)"
      ],
      "metadata": {
        "colab": {
          "base_uri": "https://localhost:8080/"
        },
        "id": "v7mbmrTRinak",
        "outputId": "3026ce01-166d-493a-f56b-ff9dc4175496"
      },
      "execution_count": null,
      "outputs": [
        {
          "output_type": "stream",
          "name": "stdout",
          "text": [
            ".. _california_housing_dataset:\n",
            "\n",
            "California Housing dataset\n",
            "--------------------------\n",
            "\n",
            "**Data Set Characteristics:**\n",
            "\n",
            "    :Number of Instances: 20640\n",
            "\n",
            "    :Number of Attributes: 8 numeric, predictive attributes and the target\n",
            "\n",
            "    :Attribute Information:\n",
            "        - MedInc        median income in block group\n",
            "        - HouseAge      median house age in block group\n",
            "        - AveRooms      average number of rooms per household\n",
            "        - AveBedrms     average number of bedrooms per household\n",
            "        - Population    block group population\n",
            "        - AveOccup      average number of household members\n",
            "        - Latitude      block group latitude\n",
            "        - Longitude     block group longitude\n",
            "\n",
            "    :Missing Attribute Values: None\n",
            "\n",
            "This dataset was obtained from the StatLib repository.\n",
            "https://www.dcc.fc.up.pt/~ltorgo/Regression/cal_housing.html\n",
            "\n",
            "The target variable is the median house value for California districts,\n",
            "expressed in hundreds of thousands of dollars ($100,000).\n",
            "\n",
            "This dataset was derived from the 1990 U.S. census, using one row per census\n",
            "block group. A block group is the smallest geographical unit for which the U.S.\n",
            "Census Bureau publishes sample data (a block group typically has a population\n",
            "of 600 to 3,000 people).\n",
            "\n",
            "An household is a group of people residing within a home. Since the average\n",
            "number of rooms and bedrooms in this dataset are provided per household, these\n",
            "columns may take surpinsingly large values for block groups with few households\n",
            "and many empty houses, such as vacation resorts.\n",
            "\n",
            "It can be downloaded/loaded using the\n",
            ":func:`sklearn.datasets.fetch_california_housing` function.\n",
            "\n",
            ".. topic:: References\n",
            "\n",
            "    - Pace, R. Kelley and Ronald Barry, Sparse Spatial Autoregressions,\n",
            "      Statistics and Probability Letters, 33 (1997) 291-297\n",
            "\n"
          ]
        }
      ]
    },
    {
      "cell_type": "code",
      "source": [
        "df = pd.DataFrame(housing.data, columns=housing.feature_names)\n",
        "df['target'] = housing.target"
      ],
      "metadata": {
        "id": "beqDbNzQi0PR"
      },
      "execution_count": null,
      "outputs": []
    },
    {
      "cell_type": "code",
      "source": [
        "print(df.head())"
      ],
      "metadata": {
        "colab": {
          "base_uri": "https://localhost:8080/"
        },
        "id": "Y-4fgqWCkd-o",
        "outputId": "6a7984fc-d850-4f19-fdc8-8a3173bfd5bd"
      },
      "execution_count": null,
      "outputs": [
        {
          "output_type": "stream",
          "name": "stdout",
          "text": [
            "   MedInc  HouseAge  AveRooms  AveBedrms  Population  AveOccup  Latitude  \\\n",
            "0  8.3252      41.0  6.984127   1.023810       322.0  2.555556     37.88   \n",
            "1  8.3014      21.0  6.238137   0.971880      2401.0  2.109842     37.86   \n",
            "2  7.2574      52.0  8.288136   1.073446       496.0  2.802260     37.85   \n",
            "3  5.6431      52.0  5.817352   1.073059       558.0  2.547945     37.85   \n",
            "4  3.8462      52.0  6.281853   1.081081       565.0  2.181467     37.85   \n",
            "\n",
            "   Longitude  target  \n",
            "0    -122.23   4.526  \n",
            "1    -122.22   3.585  \n",
            "2    -122.24   3.521  \n",
            "3    -122.25   3.413  \n",
            "4    -122.25   3.422  \n"
          ]
        }
      ]
    },
    {
      "cell_type": "code",
      "source": [
        "print(df.shape) #(20640, 9)\n",
        "print(df.describe())"
      ],
      "metadata": {
        "colab": {
          "base_uri": "https://localhost:8080/"
        },
        "id": "zoUn3ZXdkimJ",
        "outputId": "9a0dc8cb-3ac8-49a8-f1ca-3ed5749e0c8d"
      },
      "execution_count": null,
      "outputs": [
        {
          "output_type": "stream",
          "name": "stdout",
          "text": [
            "(20640, 9)\n",
            "             MedInc      HouseAge      AveRooms     AveBedrms    Population  \\\n",
            "count  20640.000000  20640.000000  20640.000000  20640.000000  20640.000000   \n",
            "mean       3.870671     28.639486      5.429000      1.096675   1425.476744   \n",
            "std        1.899822     12.585558      2.474173      0.473911   1132.462122   \n",
            "min        0.499900      1.000000      0.846154      0.333333      3.000000   \n",
            "25%        2.563400     18.000000      4.440716      1.006079    787.000000   \n",
            "50%        3.534800     29.000000      5.229129      1.048780   1166.000000   \n",
            "75%        4.743250     37.000000      6.052381      1.099526   1725.000000   \n",
            "max       15.000100     52.000000    141.909091     34.066667  35682.000000   \n",
            "\n",
            "           AveOccup      Latitude     Longitude        target  \n",
            "count  20640.000000  20640.000000  20640.000000  20640.000000  \n",
            "mean       3.070655     35.631861   -119.569704      2.068558  \n",
            "std       10.386050      2.135952      2.003532      1.153956  \n",
            "min        0.692308     32.540000   -124.350000      0.149990  \n",
            "25%        2.429741     33.930000   -121.800000      1.196000  \n",
            "50%        2.818116     34.260000   -118.490000      1.797000  \n",
            "75%        3.282261     37.710000   -118.010000      2.647250  \n",
            "max     1243.333333     41.950000   -114.310000      5.000010  \n"
          ]
        }
      ]
    },
    {
      "cell_type": "markdown",
      "source": [
        "### 문제 4-1 : Pearson Correlation\n",
        "- seaborn 패키지를 사용하여 pearson correlation heatmap을 그린다.\n",
        "- heatmap을 확인한 후 각 feature들 간 어떠한 관계가 있는지 아래의 텍스트 셀에 서술한다.    \n",
        "- target과 연관성이 높은 feature의 column들을 아래의 텍스트 셀에 기술한다.\n",
        "- 기술한 columns들과 target column을 포함하여 DataFrame을 만들고 **이후 모든 문제에서는 이 DataFrame을 사용한다**."
      ],
      "metadata": {
        "id": "G3_Z_2mO7WkB"
      }
    },
    {
      "cell_type": "code",
      "source": [
        "### 문제 4-1 ###\n",
        "# correlation map 작성 후 plot\n",
        "import seaborn as sns\n",
        "\n",
        "corr = df.corr()\n",
        "sns.heatmap(corr, annot=True)\n",
        "\n",
        "plt.show()"
      ],
      "metadata": {
        "id": "3YiBgTBYFlOs",
        "colab": {
          "base_uri": "https://localhost:8080/",
          "height": 316
        },
        "outputId": "2548bea7-0483-4326-94dd-5caad8c4c83f"
      },
      "execution_count": null,
      "outputs": [
        {
          "output_type": "display_data",
          "data": {
            "text/plain": [
              "<Figure size 432x288 with 2 Axes>"
            ],
            "image/png": "[encoded data removed]"
          },
          "metadata": {
            "needs_background": "light"
          }
        }
      ]
    },
    {
      "cell_type": "markdown",
      "source": [
        "- **Feature들 간 관계 서술**  \n",
        "  답: pearson correlation이 0과 가까울 수록 상관관계가 없는 것이고, 멀수록, -1혹은 1과 가까울수록 상관관계가 큰 것이다. target과의 연관성만을 따졌을 때 Medinc은 가장 양의 방향으로 연관성이 높다고 볼 수 있고, houseage, aveRooms는 약한 양의 상관관계를 가지고 latitude는 약한 음의 상관관계를 나머지 +- 0.1보다 작은 feature들은 상관관계가 없다고 보여진다.\n",
        "  \n",
        "\n",
        "- **최종 선택한 feature들**  \n",
        "  답: 약한 상관관계까지 포함하기로 결정하였고 최종적으로 MedInc, HouseAge, AveRooms, Latitude가 포함되었다."
      ],
      "metadata": {
        "id": "onkXpOqZ_Aal"
      }
    },
    {
      "cell_type": "code",
      "source": [
        "### 문제 4-1 ###\n",
        "# 새 dataframe 만들기 \n",
        "df = df.drop(['AveBedrms','Population','AveOccup','Longitude'],axis=1,inplace=False)\n",
        "\n",
        "y = df['target']\n",
        "X = df.drop(['target'],axis=1)\n",
        "\n"
      ],
      "metadata": {
        "id": "GDXuxL65j7Gy"
      },
      "execution_count": null,
      "outputs": []
    },
    {
      "cell_type": "markdown",
      "source": [
        "### 문제 4-2: MSE, r2 score\n",
        "- Scikit-learn 라이브러리의 LinearRegression 모델을 사용한다.\n",
        "- train data는 test data를 제외한 **90%의 데이터를 사용**해야한다.\n",
        "- **Mean Square Error(MSE)**와 **r2 score**를 사용하여 train set에 대한 prediction 결과와 test set에 대한 prediction 결과를 구해 print 한다.\n",
        "- Prediction 결과를 바탕으로 학습한 LinearRegression 모델의 overfit, underfit 여부와 판단 근거를 텍스트 셀에 서술한다."
      ],
      "metadata": {
        "id": "uMo7ufW3_TXX"
      }
    },
    {
      "cell_type": "code",
      "source": [
        "### 문제 4-2 ###\n",
        "## 코드 작성 ##\n",
        "\n",
        "from sklearn.linear_model import LinearRegression\n",
        "from sklearn.metrics import mean_squared_error, r2_score\n",
        "\n",
        "X_train , X_test , y_train , y_test = train_test_split(X , y ,test_size=0.1, random_state=156)\n",
        "\n",
        "lr = LinearRegression()\n",
        "lr.fit(X_train, y_train)\n",
        "\n",
        "y_preds_train = lr.predict(X_train)\n",
        "train_mse = mean_squared_error(y_train, y_preds_train)\n",
        "train_rmse = np.sqrt(train_mse)\n",
        "train_r2 = r2_score(y_train, y_preds_train)\n",
        "\n",
        "\n",
        "y_preds_test = lr.predict(X_test)\n",
        "test_mse = mean_squared_error(y_test, y_preds_test)\n",
        "test_rmse = np.sqrt(test_mse)\n",
        "test_r2 = r2_score(y_test, y_preds_test)\n",
        "\n",
        "print(train_mse)\n",
        "print(train_r2)\n",
        "\n",
        "print(test_mse)\n",
        "print(test_r2)"
      ],
      "metadata": {
        "id": "UgKvcwQXCLhx",
        "colab": {
          "base_uri": "https://localhost:8080/"
        },
        "outputId": "f94bfe81-5f3f-4d2d-b612-b26144649d8a"
      },
      "execution_count": null,
      "outputs": [
        {
          "output_type": "stream",
          "name": "stdout",
          "text": [
            "0.6365475260340381\n",
            "0.5215139742213231\n",
            "0.6762466341562652\n",
            "0.4955083848335222\n"
          ]
        }
      ]
    },
    {
      "cell_type": "markdown",
      "source": [
        "**Prediction 결과를 바탕으로 학습한 LinearRegression 모델의 overfit, underfit 여부와 판단 근거를 서술**   \n",
        "답: prediction 결과 mean squared error 값이 train에서 더 낮은걸로 확인된다. r_square 값은 train에서 더 높게 나타난다. 이 두 가지 값으로 미루어 봤을 때 이 Linear Regression모델은 training data에 overfit하다고 볼 수 있다. overfiting의 원인은 모델이 너무 복잡하거나, 데이터가 적다는 것이 있따. overfiting 을 해결하기 위해선 데이터의 수를 늘린다.\n",
        "모델의 Complexity를 줄인다. Regularization을 사용한다. 등의 방법이 있다."
      ],
      "metadata": {
        "id": "rcgD51UhEKOE"
      }
    },
    {
      "cell_type": "markdown",
      "source": [
        "### 문제 4-3: Regularized Model\n",
        "- Scikit-learn 라이브러리를 사용하여 Ridge Regression과 Lasso Regression 모델을 만든다.\n",
        "- train : validation : test **데이터셋의 비율을 8:1:1**로 설정한다.\n",
        "- 다양한 alpha 값에 대해 validation dataset을 사용하여 각 모델에 대한 **최적의 alpha 값을 찾고 찾은 최적의 alpha 값을 텍스트 셀에 작성**한다.\n",
        "- alpha 값은 아래의 리스트를 사용한다.  \n",
        "```alpha = [0.0001, 0.001,0.01,0.1,10]```\n",
        "- alpha 값에 대한 R2 score의 변화를 그래프로 나타낸다.\n",
        "  * **x축: alpha 값**\n",
        "  * **y축: R2 score 값**\n",
        "  * 파란색 선: Ridge 결과, 빨간색 선: Lasso 결과\n",
        "  * 그래프에 **legend**가 포함되어 있어야 한다. \n",
        "- **train과 validation dataset을 합하여 train set을 만든 후 최종 학습 결과를 도출**한다.\n",
        "  * 최적의 alpha 값을 찾을 때 사용한 test set은 변하지 않는다. \n",
        "  * r2 score를 사용하여 train set에 대한 prediction 결과와 test set에 대한 prediction 결과를 구해 print 한다."
      ],
      "metadata": {
        "id": "0OGUhsrgEwR_"
      }
    },
    {
      "cell_type": "code",
      "source": [
        "### 문제 4-3 ###\n",
        "## 코드 작성 ##\n",
        "from sklearn.linear_model import Ridge, Lasso\n",
        "from sklearn.metrics import mean_absolute_error\n",
        "\n",
        "# train test 비율 9:1로 나눔\n",
        "X_train , X_test , y_train , y_test = train_test_split(X , y ,test_size=0.1, random_state=156)\n",
        "\n",
        "# train 을 train , validation 비율 8:1로 나눔 최종적으로 8:1:1\n",
        "X_train, X_val, y_train, y_val = train_test_split(X_train, y_train, test_size=1/9, random_state=156)\n",
        "\n",
        "alpha = [0.0001, 0.001,0.01,0.1,10]\n",
        "ridge_r2 = []\n",
        "lasso_r2 = []\n",
        "# alpha값들에 대해 반복적으로 ridge lasso regression 모델 학습, validation set 으로 예측값 구하고, 예측값들과 실제 값들 비교하여 r2_score 구함\n",
        "for i in alpha:\n",
        "  ridge = Ridge(alpha = i)  \n",
        "  lasso = Lasso(alpha = i)\n",
        "\n",
        "  ridge.fit(X_train,y_train)\n",
        "  lasso.fit(X_train,y_train)\n",
        "\n",
        "  ridge_y_hat = ridge.predict(X_val)\n",
        "  lasso_y_hat = lasso.predict(X_val)\n",
        "\n",
        "  ridge_r2.append(r2_score(y_val,ridge_y_hat))\n",
        "  lasso_r2.append(r2_score(y_val,lasso_y_hat))\n",
        "\n",
        "print(ridge_r2)\n",
        "print(lasso_r2)\n",
        "  \n"
      ],
      "metadata": {
        "id": "5XHRyFjsZyJ5",
        "colab": {
          "base_uri": "https://localhost:8080/"
        },
        "outputId": "2f04f0be-61e0-47c9-b806-80d8deb113e0"
      },
      "execution_count": null,
      "outputs": [
        {
          "output_type": "stream",
          "name": "stdout",
          "text": [
            "[0.5066970988644737, 0.5066970990985719, 0.5066971014395394, 0.5066971248477206, 0.5066996831833248]\n",
            "[0.506697116203489, 0.5066965361059582, 0.5066462148433812, 0.5025323044927583, -0.00029437388163700007]\n"
          ]
        }
      ]
    },
    {
      "cell_type": "code",
      "source": [
        "### 문제 4-3 ###\n",
        "## 그래프 작성 ##\n",
        "\n",
        "plt.xlabel('alpha')\n",
        "plt.ylabel('r2_score')\n",
        "plt.plot(range(len(alpha)), ridge_r2, label = \"ridge\", color = \"blue\")\n",
        "plt.plot(range(len(alpha)), lasso_r2, label = \"lasso\", color = \"red\")\n",
        "plt.xticks(range(len(alpha)),alpha)\n",
        "plt.yticks()\n",
        "plt.legend()\n",
        "plt.show() "
      ],
      "metadata": {
        "id": "2ZJbj9r2Z4LP",
        "colab": {
          "base_uri": "https://localhost:8080/",
          "height": 279
        },
        "outputId": "ff240f2b-39c4-472e-8331-a8682076b5bd"
      },
      "execution_count": null,
      "outputs": [
        {
          "output_type": "display_data",
          "data": {
            "text/plain": [
              "<Figure size 432x288 with 1 Axes>"
            ],
            "image/png": "[encoded data removed]"
          },
          "metadata": {
            "needs_background": "light"
          }
        }
      ]
    },
    {
      "cell_type": "markdown",
      "source": [
        "- Rridge regression 모델 최적의 alpha 값: 0.01\n",
        "- Lasso regression 모델 최적의 alpha 값: 0.01"
      ],
      "metadata": {
        "id": "DS8x1JmkZ6Yl"
      }
    },
    {
      "cell_type": "code",
      "source": [
        "### 문제 4-3 ###\n",
        "# 최종 결과 출력\n",
        "optimal_a = 0.01\n",
        "\n",
        "ridge = Ridge(alpha = optimal_a)  \n",
        "lasso = Lasso(alpha = optimal_a)\n",
        "\n",
        "# train 과 validation set 합쳐서 모델 훈련 시킴\n",
        "X_train = pd.concat([X_train, X_val], ignore_index=True)\n",
        "y_train = pd.concat([y_train, y_val], ignore_index=True)\n",
        "\n",
        "# 모델 훈련\n",
        "ridge.fit(X_train,y_train)\n",
        "lasso.fit(X_train,y_train)\n",
        "\n",
        "# 예측값\n",
        "ridge_y_hat = ridge.predict(X_test)\n",
        "lasso_y_hat = lasso.predict(X_test)\n",
        "\n",
        "# 예측값과 실제값으로 r2_score 구함\n",
        "ridge_r2 = r2_score(y_test,ridge_y_hat)\n",
        "lasso_r2 = r2_score(y_test,lasso_y_hat)\n",
        "\n",
        "print(ridge_r2)\n",
        "print(lasso_r2)\n"
      ],
      "metadata": {
        "id": "zio0ZtfdiXCF",
        "colab": {
          "base_uri": "https://localhost:8080/"
        },
        "outputId": "d0ee5a81-34cd-4dfe-c7c2-92b21827f277"
      },
      "execution_count": null,
      "outputs": [
        {
          "output_type": "stream",
          "name": "stdout",
          "text": [
            "0.49550838651335505\n",
            "0.49542810534892245\n"
          ]
        }
      ]
    },
    {
      "cell_type": "code",
      "source": [
        ""
      ],
      "metadata": {
        "id": "8qVeWUjWGdLI"
      },
      "execution_count": null,
      "outputs": []
    }
  ]
}